{
  "nbformat": 4,
  "nbformat_minor": 0,
  "metadata": {
    "colab": {
      "provenance": [],
      "authorship_tag": "ABX9TyOnjObF8pWXWaxyUjeSVwcY",
      "include_colab_link": true
    },
    "kernelspec": {
      "name": "python3",
      "display_name": "Python 3"
    },
    "language_info": {
      "name": "python"
    }
  },
  "cells": [
    {
      "cell_type": "markdown",
      "metadata": {
        "id": "view-in-github",
        "colab_type": "text"
      },
      "source": [
        "<a href=\"https://colab.research.google.com/github/Z5-05/study_third_sem/blob/main/ml/Mephi_ML4.ipynb\" target=\"_parent\"><img src=\"https://colab.research.google.com/assets/colab-badge.svg\" alt=\"Open In Colab\"/></a>"
      ]
    },
    {
      "cell_type": "code",
      "execution_count": 94,
      "metadata": {
        "id": "Cj48DHcQH0N6"
      },
      "outputs": [],
      "source": [
        "import re\n",
        "import requests\n",
        "import json\n",
        "from tqdm import tqdm\n",
        "import numpy as np\n",
        "import pandas as pd\n",
        "\n",
        "from sklearn import metrics\n",
        "from sklearn.cluster import KMeans\n",
        "from sklearn.decomposition import PCA\n",
        "from sklearn.manifold import TSNE\n",
        "\n",
        "import warnings\n",
        "warnings.filterwarnings(\"ignore\")"
      ]
    },
    {
      "cell_type": "code",
      "source": [
        "from google.colab import drive\n",
        "drive.mount('/content/drive')"
      ],
      "metadata": {
        "colab": {
          "base_uri": "https://localhost:8080/"
        },
        "id": "J_a1agFMiNLY",
        "outputId": "5693dba5-d8ba-4867-99e0-322324432e5a"
      },
      "execution_count": 95,
      "outputs": [
        {
          "output_type": "stream",
          "name": "stdout",
          "text": [
            "Drive already mounted at /content/drive; to attempt to forcibly remount, call drive.mount(\"/content/drive\", force_remount=True).\n"
          ]
        }
      ]
    },
    {
      "cell_type": "code",
      "source": [
        "!ls"
      ],
      "metadata": {
        "colab": {
          "base_uri": "https://localhost:8080/"
        },
        "id": "JJC13rvSEd6E",
        "outputId": "e4cc00d6-1aa6-4d0c-8348-006d5f97ff3b"
      },
      "execution_count": 96,
      "outputs": [
        {
          "output_type": "stream",
          "name": "stdout",
          "text": [
            "drive  sample_data  seeds_dataset.txt\n"
          ]
        }
      ]
    },
    {
      "cell_type": "code",
      "source": [
        "# path = \"./drive/MyDrive/ML_mephi/seeds_dataset.txt\"\n",
        "path = \"./seeds_dataset.txt\"\n",
        "\n",
        "with open(\"seeds_dataset.txt\", \"r\") as f:\n",
        "  text = f.read()\n",
        "\n",
        "text = text.replace(\"\\t\\t\", \"\\t\")\n",
        "\n",
        "array = []\n",
        "for arr in tqdm(text.split(\"\\n\")):\n",
        "  array.append([float(t) for t in arr.split('\\t')])"
      ],
      "metadata": {
        "id": "8ijlQiKpjDJX",
        "colab": {
          "base_uri": "https://localhost:8080/"
        },
        "outputId": "57821907-b78d-4fc4-9c03-1fa1b160b670"
      },
      "execution_count": 97,
      "outputs": [
        {
          "output_type": "stream",
          "name": "stderr",
          "text": [
            "100%|██████████| 210/210 [00:00<00:00, 185784.40it/s]\n"
          ]
        }
      ]
    },
    {
      "cell_type": "code",
      "source": [
        "df.head()"
      ],
      "metadata": {
        "colab": {
          "base_uri": "https://localhost:8080/",
          "height": 241
        },
        "id": "zavRMfTeHQKu",
        "outputId": "42393dc5-b12b-4825-8d57-05467d77d9d0"
      },
      "execution_count": 106,
      "outputs": [
        {
          "output_type": "execute_result",
          "data": {
            "text/plain": [
              "   Площадь  Периметр  Компактность  Длина ядра  Ширина ядра  \\\n",
              "0    15.26     14.84        0.8710       5.763        3.312   \n",
              "1    14.88     14.57        0.8811       5.554        3.333   \n",
              "2    14.29     14.09        0.9050       5.291        3.337   \n",
              "3    13.84     13.94        0.8955       5.324        3.379   \n",
              "4    16.14     14.99        0.9034       5.658        3.562   \n",
              "\n",
              "   Коэффициент ассиметрии  Длина канавки ядра  Сорт  \n",
              "0                   2.221               5.220   1.0  \n",
              "1                   1.018               4.956   1.0  \n",
              "2                   2.699               4.825   1.0  \n",
              "3                   2.259               4.805   1.0  \n",
              "4                   1.355               5.175   1.0  "
            ],
            "text/html": [
              "\n",
              "  <div id=\"df-a0809dd8-6e64-459a-9a51-08a1dd594cd4\" class=\"colab-df-container\">\n",
              "    <div>\n",
              "<style scoped>\n",
              "    .dataframe tbody tr th:only-of-type {\n",
              "        vertical-align: middle;\n",
              "    }\n",
              "\n",
              "    .dataframe tbody tr th {\n",
              "        vertical-align: top;\n",
              "    }\n",
              "\n",
              "    .dataframe thead th {\n",
              "        text-align: right;\n",
              "    }\n",
              "</style>\n",
              "<table border=\"1\" class=\"dataframe\">\n",
              "  <thead>\n",
              "    <tr style=\"text-align: right;\">\n",
              "      <th></th>\n",
              "      <th>Площадь</th>\n",
              "      <th>Периметр</th>\n",
              "      <th>Компактность</th>\n",
              "      <th>Длина ядра</th>\n",
              "      <th>Ширина ядра</th>\n",
              "      <th>Коэффициент ассиметрии</th>\n",
              "      <th>Длина канавки ядра</th>\n",
              "      <th>Сорт</th>\n",
              "    </tr>\n",
              "  </thead>\n",
              "  <tbody>\n",
              "    <tr>\n",
              "      <th>0</th>\n",
              "      <td>15.26</td>\n",
              "      <td>14.84</td>\n",
              "      <td>0.8710</td>\n",
              "      <td>5.763</td>\n",
              "      <td>3.312</td>\n",
              "      <td>2.221</td>\n",
              "      <td>5.220</td>\n",
              "      <td>1.0</td>\n",
              "    </tr>\n",
              "    <tr>\n",
              "      <th>1</th>\n",
              "      <td>14.88</td>\n",
              "      <td>14.57</td>\n",
              "      <td>0.8811</td>\n",
              "      <td>5.554</td>\n",
              "      <td>3.333</td>\n",
              "      <td>1.018</td>\n",
              "      <td>4.956</td>\n",
              "      <td>1.0</td>\n",
              "    </tr>\n",
              "    <tr>\n",
              "      <th>2</th>\n",
              "      <td>14.29</td>\n",
              "      <td>14.09</td>\n",
              "      <td>0.9050</td>\n",
              "      <td>5.291</td>\n",
              "      <td>3.337</td>\n",
              "      <td>2.699</td>\n",
              "      <td>4.825</td>\n",
              "      <td>1.0</td>\n",
              "    </tr>\n",
              "    <tr>\n",
              "      <th>3</th>\n",
              "      <td>13.84</td>\n",
              "      <td>13.94</td>\n",
              "      <td>0.8955</td>\n",
              "      <td>5.324</td>\n",
              "      <td>3.379</td>\n",
              "      <td>2.259</td>\n",
              "      <td>4.805</td>\n",
              "      <td>1.0</td>\n",
              "    </tr>\n",
              "    <tr>\n",
              "      <th>4</th>\n",
              "      <td>16.14</td>\n",
              "      <td>14.99</td>\n",
              "      <td>0.9034</td>\n",
              "      <td>5.658</td>\n",
              "      <td>3.562</td>\n",
              "      <td>1.355</td>\n",
              "      <td>5.175</td>\n",
              "      <td>1.0</td>\n",
              "    </tr>\n",
              "  </tbody>\n",
              "</table>\n",
              "</div>\n",
              "    <div class=\"colab-df-buttons\">\n",
              "\n",
              "  <div class=\"colab-df-container\">\n",
              "    <button class=\"colab-df-convert\" onclick=\"convertToInteractive('df-a0809dd8-6e64-459a-9a51-08a1dd594cd4')\"\n",
              "            title=\"Convert this dataframe to an interactive table.\"\n",
              "            style=\"display:none;\">\n",
              "\n",
              "  <svg xmlns=\"http://www.w3.org/2000/svg\" height=\"24px\" viewBox=\"0 -960 960 960\">\n",
              "    <path d=\"M120-120v-720h720v720H120Zm60-500h600v-160H180v160Zm220 220h160v-160H400v160Zm0 220h160v-160H400v160ZM180-400h160v-160H180v160Zm440 0h160v-160H620v160ZM180-180h160v-160H180v160Zm440 0h160v-160H620v160Z\"/>\n",
              "  </svg>\n",
              "    </button>\n",
              "\n",
              "  <style>\n",
              "    .colab-df-container {\n",
              "      display:flex;\n",
              "      gap: 12px;\n",
              "    }\n",
              "\n",
              "    .colab-df-convert {\n",
              "      background-color: #E8F0FE;\n",
              "      border: none;\n",
              "      border-radius: 50%;\n",
              "      cursor: pointer;\n",
              "      display: none;\n",
              "      fill: #1967D2;\n",
              "      height: 32px;\n",
              "      padding: 0 0 0 0;\n",
              "      width: 32px;\n",
              "    }\n",
              "\n",
              "    .colab-df-convert:hover {\n",
              "      background-color: #E2EBFA;\n",
              "      box-shadow: 0px 1px 2px rgba(60, 64, 67, 0.3), 0px 1px 3px 1px rgba(60, 64, 67, 0.15);\n",
              "      fill: #174EA6;\n",
              "    }\n",
              "\n",
              "    .colab-df-buttons div {\n",
              "      margin-bottom: 4px;\n",
              "    }\n",
              "\n",
              "    [theme=dark] .colab-df-convert {\n",
              "      background-color: #3B4455;\n",
              "      fill: #D2E3FC;\n",
              "    }\n",
              "\n",
              "    [theme=dark] .colab-df-convert:hover {\n",
              "      background-color: #434B5C;\n",
              "      box-shadow: 0px 1px 3px 1px rgba(0, 0, 0, 0.15);\n",
              "      filter: drop-shadow(0px 1px 2px rgba(0, 0, 0, 0.3));\n",
              "      fill: #FFFFFF;\n",
              "    }\n",
              "  </style>\n",
              "\n",
              "    <script>\n",
              "      const buttonEl =\n",
              "        document.querySelector('#df-a0809dd8-6e64-459a-9a51-08a1dd594cd4 button.colab-df-convert');\n",
              "      buttonEl.style.display =\n",
              "        google.colab.kernel.accessAllowed ? 'block' : 'none';\n",
              "\n",
              "      async function convertToInteractive(key) {\n",
              "        const element = document.querySelector('#df-a0809dd8-6e64-459a-9a51-08a1dd594cd4');\n",
              "        const dataTable =\n",
              "          await google.colab.kernel.invokeFunction('convertToInteractive',\n",
              "                                                    [key], {});\n",
              "        if (!dataTable) return;\n",
              "\n",
              "        const docLinkHtml = 'Like what you see? Visit the ' +\n",
              "          '<a target=\"_blank\" href=https://colab.research.google.com/notebooks/data_table.ipynb>data table notebook</a>'\n",
              "          + ' to learn more about interactive tables.';\n",
              "        element.innerHTML = '';\n",
              "        dataTable['output_type'] = 'display_data';\n",
              "        await google.colab.output.renderOutput(dataTable, element);\n",
              "        const docLink = document.createElement('div');\n",
              "        docLink.innerHTML = docLinkHtml;\n",
              "        element.appendChild(docLink);\n",
              "      }\n",
              "    </script>\n",
              "  </div>\n",
              "\n",
              "\n",
              "<div id=\"df-79704f9e-c0d9-43fe-a0e4-456b3edf9add\">\n",
              "  <button class=\"colab-df-quickchart\" onclick=\"quickchart('df-79704f9e-c0d9-43fe-a0e4-456b3edf9add')\"\n",
              "            title=\"Suggest charts\"\n",
              "            style=\"display:none;\">\n",
              "\n",
              "<svg xmlns=\"http://www.w3.org/2000/svg\" height=\"24px\"viewBox=\"0 0 24 24\"\n",
              "     width=\"24px\">\n",
              "    <g>\n",
              "        <path d=\"M19 3H5c-1.1 0-2 .9-2 2v14c0 1.1.9 2 2 2h14c1.1 0 2-.9 2-2V5c0-1.1-.9-2-2-2zM9 17H7v-7h2v7zm4 0h-2V7h2v10zm4 0h-2v-4h2v4z\"/>\n",
              "    </g>\n",
              "</svg>\n",
              "  </button>\n",
              "\n",
              "<style>\n",
              "  .colab-df-quickchart {\n",
              "      --bg-color: #E8F0FE;\n",
              "      --fill-color: #1967D2;\n",
              "      --hover-bg-color: #E2EBFA;\n",
              "      --hover-fill-color: #174EA6;\n",
              "      --disabled-fill-color: #AAA;\n",
              "      --disabled-bg-color: #DDD;\n",
              "  }\n",
              "\n",
              "  [theme=dark] .colab-df-quickchart {\n",
              "      --bg-color: #3B4455;\n",
              "      --fill-color: #D2E3FC;\n",
              "      --hover-bg-color: #434B5C;\n",
              "      --hover-fill-color: #FFFFFF;\n",
              "      --disabled-bg-color: #3B4455;\n",
              "      --disabled-fill-color: #666;\n",
              "  }\n",
              "\n",
              "  .colab-df-quickchart {\n",
              "    background-color: var(--bg-color);\n",
              "    border: none;\n",
              "    border-radius: 50%;\n",
              "    cursor: pointer;\n",
              "    display: none;\n",
              "    fill: var(--fill-color);\n",
              "    height: 32px;\n",
              "    padding: 0;\n",
              "    width: 32px;\n",
              "  }\n",
              "\n",
              "  .colab-df-quickchart:hover {\n",
              "    background-color: var(--hover-bg-color);\n",
              "    box-shadow: 0 1px 2px rgba(60, 64, 67, 0.3), 0 1px 3px 1px rgba(60, 64, 67, 0.15);\n",
              "    fill: var(--button-hover-fill-color);\n",
              "  }\n",
              "\n",
              "  .colab-df-quickchart-complete:disabled,\n",
              "  .colab-df-quickchart-complete:disabled:hover {\n",
              "    background-color: var(--disabled-bg-color);\n",
              "    fill: var(--disabled-fill-color);\n",
              "    box-shadow: none;\n",
              "  }\n",
              "\n",
              "  .colab-df-spinner {\n",
              "    border: 2px solid var(--fill-color);\n",
              "    border-color: transparent;\n",
              "    border-bottom-color: var(--fill-color);\n",
              "    animation:\n",
              "      spin 1s steps(1) infinite;\n",
              "  }\n",
              "\n",
              "  @keyframes spin {\n",
              "    0% {\n",
              "      border-color: transparent;\n",
              "      border-bottom-color: var(--fill-color);\n",
              "      border-left-color: var(--fill-color);\n",
              "    }\n",
              "    20% {\n",
              "      border-color: transparent;\n",
              "      border-left-color: var(--fill-color);\n",
              "      border-top-color: var(--fill-color);\n",
              "    }\n",
              "    30% {\n",
              "      border-color: transparent;\n",
              "      border-left-color: var(--fill-color);\n",
              "      border-top-color: var(--fill-color);\n",
              "      border-right-color: var(--fill-color);\n",
              "    }\n",
              "    40% {\n",
              "      border-color: transparent;\n",
              "      border-right-color: var(--fill-color);\n",
              "      border-top-color: var(--fill-color);\n",
              "    }\n",
              "    60% {\n",
              "      border-color: transparent;\n",
              "      border-right-color: var(--fill-color);\n",
              "    }\n",
              "    80% {\n",
              "      border-color: transparent;\n",
              "      border-right-color: var(--fill-color);\n",
              "      border-bottom-color: var(--fill-color);\n",
              "    }\n",
              "    90% {\n",
              "      border-color: transparent;\n",
              "      border-bottom-color: var(--fill-color);\n",
              "    }\n",
              "  }\n",
              "</style>\n",
              "\n",
              "  <script>\n",
              "    async function quickchart(key) {\n",
              "      const quickchartButtonEl =\n",
              "        document.querySelector('#' + key + ' button');\n",
              "      quickchartButtonEl.disabled = true;  // To prevent multiple clicks.\n",
              "      quickchartButtonEl.classList.add('colab-df-spinner');\n",
              "      try {\n",
              "        const charts = await google.colab.kernel.invokeFunction(\n",
              "            'suggestCharts', [key], {});\n",
              "      } catch (error) {\n",
              "        console.error('Error during call to suggestCharts:', error);\n",
              "      }\n",
              "      quickchartButtonEl.classList.remove('colab-df-spinner');\n",
              "      quickchartButtonEl.classList.add('colab-df-quickchart-complete');\n",
              "    }\n",
              "    (() => {\n",
              "      let quickchartButtonEl =\n",
              "        document.querySelector('#df-79704f9e-c0d9-43fe-a0e4-456b3edf9add button');\n",
              "      quickchartButtonEl.style.display =\n",
              "        google.colab.kernel.accessAllowed ? 'block' : 'none';\n",
              "    })();\n",
              "  </script>\n",
              "</div>\n",
              "    </div>\n",
              "  </div>\n"
            ]
          },
          "metadata": {},
          "execution_count": 106
        }
      ]
    },
    {
      "cell_type": "code",
      "source": [
        "df = pd.DataFrame(array)\n",
        "df.columns = [\"Площадь\",\n",
        "              \"Периметр\",\n",
        "              \"Компактность\",\n",
        "              \"Длина ядра\",\n",
        "              \"Ширина ядра\",\n",
        "              \"Коэффициент ассиметрии\",\n",
        "              \"Длина канавки ядра\",\n",
        "              \"Сорт\"]"
      ],
      "metadata": {
        "id": "xpXPJ-KoFpQK"
      },
      "execution_count": 99,
      "outputs": []
    },
    {
      "cell_type": "code",
      "source": [
        "raw_df = df.drop(\"Сорт\", axis=1)"
      ],
      "metadata": {
        "id": "koB_ap5mHeb3"
      },
      "execution_count": 100,
      "outputs": []
    },
    {
      "cell_type": "code",
      "source": [
        "kmeans_model = KMeans(n_clusters=3, random_state=1).fit(raw_df)\n",
        "labels = kmeans_model.labels_\n",
        "base_silhouette = metrics.silhouette_score(raw_df, labels, metric='euclidean')\n",
        "print(f\"Базовое значение силуэта: {base_silhouette}\")"
      ],
      "metadata": {
        "colab": {
          "base_uri": "https://localhost:8080/"
        },
        "id": "_zMFDYmuHeXX",
        "outputId": "1f816509-4f3f-484f-d27a-7b24c7391c72"
      },
      "execution_count": 101,
      "outputs": [
        {
          "output_type": "stream",
          "name": "stdout",
          "text": [
            "Базовое значение силуэта: 0.4719337319126887\n"
          ]
        }
      ]
    },
    {
      "cell_type": "code",
      "source": [
        "for cols in range(1, len(raw_df.columns)):\n",
        "  pca = PCA(n_components=cols)\n",
        "  df_pca = pd.DataFrame(pca.fit_transform(raw_df))\n",
        "  kmeans_model = KMeans(n_clusters=3, random_state=1).fit(df_pca)\n",
        "  labels = kmeans_model.labels_\n",
        "  silhouette = metrics.silhouette_score(df_pca, labels, metric='euclidean')\n",
        "  if silhouette > base_silhouette:\n",
        "    print(f\"Значение силуэта для PCA = {cols} лучше базового = {silhouette}\")\n",
        "    break\n",
        "  print(\"Лучших вариантов не нашлось\")\n"
      ],
      "metadata": {
        "colab": {
          "base_uri": "https://localhost:8080/"
        },
        "id": "d-Blj6IQHeVH",
        "outputId": "34b3f76e-a87a-4864-db4c-4e832fd4e02f"
      },
      "execution_count": 102,
      "outputs": [
        {
          "output_type": "stream",
          "name": "stdout",
          "text": [
            "Значение силуэта для PCA = 1 лучше базового = 0.6426483839427913\n"
          ]
        }
      ]
    },
    {
      "cell_type": "code",
      "source": [
        "for cols in range(1, len(raw_df.columns)):\n",
        "  tsne = TSNE(n_components=cols)\n",
        "  df_tsne = pd.DataFrame(pca.fit_transform(raw_df))\n",
        "  kmeans_model = KMeans(n_clusters=3, random_state=1).fit(df_tsne)\n",
        "  labels = kmeans_model.labels_\n",
        "  silhouette = metrics.silhouette_score(df_tsne, labels, metric='euclidean')\n",
        "  if silhouette > base_silhouette:\n",
        "    print(f\"Значение силуэта для PCA = {cols} лучше базового = {silhouette}\")\n",
        "    break\n",
        "  print(\"Лучших вариантов не нашлось\")\n"
      ],
      "metadata": {
        "colab": {
          "base_uri": "https://localhost:8080/"
        },
        "id": "1VXJem7fHeS1",
        "outputId": "5a2eb00c-3fa1-404d-8985-39c3b02986c1"
      },
      "execution_count": 103,
      "outputs": [
        {
          "output_type": "stream",
          "name": "stdout",
          "text": [
            "Значение силуэта для PCA = 1 лучше базового = 0.6426483839427913\n"
          ]
        }
      ]
    },
    {
      "cell_type": "code",
      "source": [
        "kmeans = KMeans(init=\"k-means++\", n_clusters=3).fit(raw_df)\n",
        "labels = kmeans_model.labels_\n",
        "silhouette = metrics.silhouette_score(raw_df, labels, metric='euclidean')\n",
        "print(f\"Значение силуэта типа инициализации k-means++ = {silhouette}\")\n",
        "\n",
        "kmeans = KMeans(init=\"random\", n_clusters=3)\n",
        "labels = kmeans_model.labels_\n",
        "silhouette = metrics.silhouette_score(raw_df, labels, metric='euclidean')\n",
        "print(f\"Значение силуэта типа инициализации random = {silhouette}\")\n",
        "\n",
        "pca = PCA(n_components=3).fit(raw_df)\n",
        "kmeans = KMeans(init=pca.components_, n_clusters=3)\n",
        "labels = kmeans_model.labels_\n",
        "silhouette = metrics.silhouette_score(raw_df, labels, metric='euclidean')\n",
        "print(f\"Значение силуэта типа инициализации PCA = {silhouette}\")"
      ],
      "metadata": {
        "colab": {
          "base_uri": "https://localhost:8080/"
        },
        "id": "gy2A5uLMHeQM",
        "outputId": "cea79a09-0a65-408d-960e-64cd647ec606"
      },
      "execution_count": 104,
      "outputs": [
        {
          "output_type": "stream",
          "name": "stdout",
          "text": [
            "Значение силуэта типа инициализации k-means++ = 0.454939565113377\n",
            "Значение силуэта типа инициализации random = 0.454939565113377\n",
            "Значение силуэта типа инициализации PCA = 0.454939565113377\n"
          ]
        }
      ]
    },
    {
      "cell_type": "code",
      "source": [
        "for k in range(2, 11):\n",
        "  kmeans_model = KMeans(n_clusters=k, random_state=1).fit(raw_df)\n",
        "  labels = kmeans_model.labels_\n",
        "  silhouette = metrics.silhouette_score(raw_df, labels, metric='euclidean')\n",
        "  print(f\"Значение силуэта для k = {k}: {silhouette}\")"
      ],
      "metadata": {
        "id": "KcPqcNHDnow7",
        "colab": {
          "base_uri": "https://localhost:8080/"
        },
        "outputId": "473b0f9b-1587-4da5-9b1c-3f8ababd03c1"
      },
      "execution_count": 105,
      "outputs": [
        {
          "output_type": "stream",
          "name": "stdout",
          "text": [
            "Значение силуэта для k = 2: 0.5182873410849098\n",
            "Значение силуэта для k = 3: 0.4719337319126887\n",
            "Значение силуэта для k = 4: 0.39646457495739773\n",
            "Значение силуэта для k = 5: 0.36196414876416927\n",
            "Значение силуэта для k = 6: 0.36866578093739255\n",
            "Значение силуэта для k = 7: 0.35418936587734456\n",
            "Значение силуэта для k = 8: 0.36246202436183916\n",
            "Значение силуэта для k = 9: 0.36343055812500447\n",
            "Значение силуэта для k = 10: 0.3399204354102194\n"
          ]
        }
      ]
    },
    {
      "cell_type": "code",
      "source": [],
      "metadata": {
        "id": "WRVoV_V1M_CK"
      },
      "execution_count": 105,
      "outputs": []
    }
  ]
}