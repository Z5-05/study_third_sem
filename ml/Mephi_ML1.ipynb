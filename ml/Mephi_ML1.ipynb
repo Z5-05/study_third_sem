{
  "nbformat": 4,
  "nbformat_minor": 0,
  "metadata": {
    "colab": {
      "provenance": [],
      "authorship_tag": "ABX9TyOymehTSGAB1Y3JyWCMPGu9",
      "include_colab_link": true
    },
    "kernelspec": {
      "name": "python3",
      "display_name": "Python 3"
    },
    "language_info": {
      "name": "python"
    }
  },
  "cells": [
    {
      "cell_type": "markdown",
      "metadata": {
        "id": "view-in-github",
        "colab_type": "text"
      },
      "source": [
        "<a href=\"https://colab.research.google.com/github/Z5-05/study_third_sem/blob/main/ml/Mephi_ML1.ipynb\" target=\"_parent\"><img src=\"https://colab.research.google.com/assets/colab-badge.svg\" alt=\"Open In Colab\"/></a>"
      ]
    },
    {
      "cell_type": "code",
      "source": [
        "# !pip install pyod"
      ],
      "metadata": {
        "id": "-OGvDUsDYJIV"
      },
      "execution_count": 87,
      "outputs": []
    },
    {
      "cell_type": "code",
      "execution_count": 88,
      "metadata": {
        "id": "Cj48DHcQH0N6"
      },
      "outputs": [],
      "source": [
        "import requests\n",
        "import json\n",
        "from tqdm import tqdm\n",
        "import pandas as pd\n",
        "import seaborn as sns\n",
        "import matplotlib.pyplot as plt\n",
        "\n",
        "# https://pyod.readthedocs.io/en/latest/\n",
        "from pyod.models.ecod import ECOD\n",
        "from pyod.models.pca import PCA\n",
        "from pyod.models.knn import KNN"
      ]
    },
    {
      "cell_type": "code",
      "source": [
        "def get_vacancies(max_vacancies, per_page, page_number, job_title):\n",
        "  dct = {'id': [],\n",
        "       'name': [],\n",
        "       'area_name': [],\n",
        "       'salary_from': [],\n",
        "       'salary_to': [],\n",
        "       'salary_gross': [],\n",
        "       'salary_currency': [],\n",
        "       'snippet_requirement': [],\n",
        "       'experience_name': [],\n",
        "       'description': []}\n",
        "  cnt = 0\n",
        "\n",
        "  url = 'https://api.hh.ru/vacancies'\n",
        "\n",
        "  for i in tqdm(range(page_number)):\n",
        "    par = {'text': job_title,\n",
        "          'per_page': per_page,\n",
        "          'page': i,\n",
        "          'only_with_salary': 'True'}\n",
        "    r = requests.get(url, params=par)\n",
        "    vacancies = r.json()\n",
        "    for vacancy in vacancies['items']:\n",
        "      if (vacancy['salary']['from'] is None) | (vacancy['salary']['to'] is None):\n",
        "        continue\n",
        "      dct['id'].append(vacancy['id'])\n",
        "      dct['name'].append(vacancy['name'])\n",
        "      dct['area_name'].append(vacancy['area']['name'])\n",
        "      dct['salary_from'].append(vacancy['salary']['from'])\n",
        "      dct['salary_to'].append(vacancy['salary']['to'])\n",
        "      dct['salary_gross'].append(vacancy['salary']['gross'])\n",
        "      dct['salary_currency'].append(vacancy['salary']['currency'])\n",
        "      dct['snippet_requirement'].append(vacancy['snippet']['requirement'])\n",
        "      dct['experience_name'].append(vacancy['experience']['name'])\n",
        "      dct['description'].append(vacancy['description'])\n",
        "      cnt += 1\n",
        "      if cnt >= max_vacancies:\n",
        "        return dct\n",
        "  return dct"
      ],
      "metadata": {
        "id": "tGShZbqsKAoz"
      },
      "execution_count": 89,
      "outputs": []
    },
    {
      "cell_type": "code",
      "source": [
        "max_vacancies = 2000\n",
        "per_page = 100\n",
        "page_number = 20\n",
        "job_title = 'Разработчик'\n",
        "\n",
        "dct = get_vacancies(max_vacancies, per_page, page_number, job_title)"
      ],
      "metadata": {
        "colab": {
          "base_uri": "https://localhost:8080/",
          "height": 349
        },
        "id": "Ltv1Ag0zMq_O",
        "outputId": "a1fe2248-8a7b-49e7-c763-99950924d9ad"
      },
      "execution_count": 90,
      "outputs": [
        {
          "output_type": "stream",
          "name": "stderr",
          "text": [
            "  0%|          | 0/20 [00:01<?, ?it/s]\n"
          ]
        },
        {
          "output_type": "error",
          "ename": "KeyError",
          "evalue": "ignored",
          "traceback": [
            "\u001b[0;31m---------------------------------------------------------------------------\u001b[0m",
            "\u001b[0;31mKeyError\u001b[0m                                  Traceback (most recent call last)",
            "\u001b[0;32m<ipython-input-90-a93f26d8b460>\u001b[0m in \u001b[0;36m<cell line: 6>\u001b[0;34m()\u001b[0m\n\u001b[1;32m      4\u001b[0m \u001b[0mjob_title\u001b[0m \u001b[0;34m=\u001b[0m \u001b[0;34m'Разработчик'\u001b[0m\u001b[0;34m\u001b[0m\u001b[0;34m\u001b[0m\u001b[0m\n\u001b[1;32m      5\u001b[0m \u001b[0;34m\u001b[0m\u001b[0m\n\u001b[0;32m----> 6\u001b[0;31m \u001b[0mdct\u001b[0m \u001b[0;34m=\u001b[0m \u001b[0mget_vacancies\u001b[0m\u001b[0;34m(\u001b[0m\u001b[0mmax_vacancies\u001b[0m\u001b[0;34m,\u001b[0m \u001b[0mper_page\u001b[0m\u001b[0;34m,\u001b[0m \u001b[0mpage_number\u001b[0m\u001b[0;34m,\u001b[0m \u001b[0mjob_title\u001b[0m\u001b[0;34m)\u001b[0m\u001b[0;34m\u001b[0m\u001b[0;34m\u001b[0m\u001b[0m\n\u001b[0m",
            "\u001b[0;32m<ipython-input-89-2a521bba4aa7>\u001b[0m in \u001b[0;36mget_vacancies\u001b[0;34m(max_vacancies, per_page, page_number, job_title)\u001b[0m\n\u001b[1;32m     33\u001b[0m       \u001b[0mdct\u001b[0m\u001b[0;34m[\u001b[0m\u001b[0;34m'snippet_requirement'\u001b[0m\u001b[0;34m]\u001b[0m\u001b[0;34m.\u001b[0m\u001b[0mappend\u001b[0m\u001b[0;34m(\u001b[0m\u001b[0mvacancy\u001b[0m\u001b[0;34m[\u001b[0m\u001b[0;34m'snippet'\u001b[0m\u001b[0;34m]\u001b[0m\u001b[0;34m[\u001b[0m\u001b[0;34m'requirement'\u001b[0m\u001b[0;34m]\u001b[0m\u001b[0;34m)\u001b[0m\u001b[0;34m\u001b[0m\u001b[0;34m\u001b[0m\u001b[0m\n\u001b[1;32m     34\u001b[0m       \u001b[0mdct\u001b[0m\u001b[0;34m[\u001b[0m\u001b[0;34m'experience_name'\u001b[0m\u001b[0;34m]\u001b[0m\u001b[0;34m.\u001b[0m\u001b[0mappend\u001b[0m\u001b[0;34m(\u001b[0m\u001b[0mvacancy\u001b[0m\u001b[0;34m[\u001b[0m\u001b[0;34m'experience'\u001b[0m\u001b[0;34m]\u001b[0m\u001b[0;34m[\u001b[0m\u001b[0;34m'name'\u001b[0m\u001b[0;34m]\u001b[0m\u001b[0;34m)\u001b[0m\u001b[0;34m\u001b[0m\u001b[0;34m\u001b[0m\u001b[0m\n\u001b[0;32m---> 35\u001b[0;31m       \u001b[0mdct\u001b[0m\u001b[0;34m[\u001b[0m\u001b[0;34m'description'\u001b[0m\u001b[0;34m]\u001b[0m\u001b[0;34m.\u001b[0m\u001b[0mappend\u001b[0m\u001b[0;34m(\u001b[0m\u001b[0mvacancy\u001b[0m\u001b[0;34m[\u001b[0m\u001b[0;34m'description'\u001b[0m\u001b[0;34m]\u001b[0m\u001b[0;34m)\u001b[0m\u001b[0;34m\u001b[0m\u001b[0;34m\u001b[0m\u001b[0m\n\u001b[0m\u001b[1;32m     36\u001b[0m       \u001b[0mcnt\u001b[0m \u001b[0;34m+=\u001b[0m \u001b[0;36m1\u001b[0m\u001b[0;34m\u001b[0m\u001b[0;34m\u001b[0m\u001b[0m\n\u001b[1;32m     37\u001b[0m       \u001b[0;32mif\u001b[0m \u001b[0mcnt\u001b[0m \u001b[0;34m>=\u001b[0m \u001b[0mmax_vacancies\u001b[0m\u001b[0;34m:\u001b[0m\u001b[0;34m\u001b[0m\u001b[0;34m\u001b[0m\u001b[0m\n",
            "\u001b[0;31mKeyError\u001b[0m: 'description'"
          ]
        }
      ]
    },
    {
      "cell_type": "code",
      "source": [
        "dataframe = pd.DataFrame.from_dict(dct)\n",
        "dataframe['clean_sal'] = (dataframe['salary_from'] + dataframe['salary_to']) / 2"
      ],
      "metadata": {
        "id": "9UIlJTLIMx0X"
      },
      "execution_count": null,
      "outputs": []
    },
    {
      "cell_type": "code",
      "source": [
        "sns.boxplot(x=dataframe[\"clean_sal\"])\n",
        "plt.title(\"Boxplot\")\n",
        "plt.grid()\n",
        "plt.show()"
      ],
      "metadata": {
        "id": "SrOm2n_iNAMr"
      },
      "execution_count": null,
      "outputs": []
    },
    {
      "cell_type": "code",
      "source": [
        "clf1 = ECOD()\n",
        "clf1.fit(dataframe['clean_sal'].array.reshape(-1, 1))\n",
        "dataframe['clean_sal_outliers1'] = clf1.decision_scores_\n",
        "\n",
        "clf2 = PCA()\n",
        "clf2.fit(dataframe['clean_sal'].array.reshape(-1, 1))\n",
        "dataframe['clean_sal_outliers2'] = clf2.decision_scores_\n",
        "\n",
        "clf3 = KNN()\n",
        "clf3.fit(dataframe['clean_sal'].array.reshape(-1, 1))\n",
        "dataframe['clean_sal_outliers3'] = clf3.decision_scores_\n",
        "\n",
        "dataframe['flag'] = (dataframe['clean_sal_outliers1'] != 0).astype(int) + \\\n",
        "                    (dataframe['clean_sal_outliers2'] != 0).astype(int) + \\\n",
        "                    (dataframe['clean_sal_outliers3'] != 0).astype(int)\n",
        "\n",
        "dataframe1 = dataframe[dataframe['flag'] == 3]"
      ],
      "metadata": {
        "id": "0js8Q-omS4e1"
      },
      "execution_count": null,
      "outputs": []
    },
    {
      "cell_type": "code",
      "source": [
        "dataframe1[['clean_sal', 'snippet_requirement']].head()"
      ],
      "metadata": {
        "id": "dfik6EjYZNPj"
      },
      "execution_count": null,
      "outputs": []
    },
    {
      "cell_type": "code",
      "source": [],
      "metadata": {
        "id": "t5XLO7M0c2T8"
      },
      "execution_count": null,
      "outputs": []
    }
  ]
}