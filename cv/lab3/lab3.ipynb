{
 "cells": [
  {
   "cell_type": "markdown",
   "metadata": {},
   "source": [
    "Источник: https://github.com/PacktPublishing/Hands-On-Image-Processing-with-Python/tree/master"
   ]
  },
  {
   "cell_type": "code",
   "execution_count": 12,
   "metadata": {},
   "outputs": [],
   "source": [
    "# !pip install -U scikit-image"
   ]
  },
  {
   "cell_type": "code",
   "execution_count": 13,
   "metadata": {},
   "outputs": [],
   "source": [
    "import os\n",
    "from PIL import Image, ImageFilter\n",
    "import numpy as np\n",
    "from numpy import asarray\n",
    "import shutil\n",
    "from scipy.ndimage import gaussian_filter\n",
    "import cv2\n",
    "import matplotlib.pyplot as plt\n",
    "from scipy import ndimage\n",
    "from numpy import linalg as LA\n",
    "from skimage import exposure, feature\n",
    "import warnings\n",
    "warnings.filterwarnings(\"ignore\")"
   ]
  },
  {
   "cell_type": "code",
   "execution_count": 14,
   "metadata": {},
   "outputs": [],
   "source": [
    "# constants\n",
    "\n",
    "# 1\n",
    "P = 256\n",
    "\n",
    "# 4\n",
    "K = 5"
   ]
  },
  {
   "cell_type": "code",
   "execution_count": 15,
   "metadata": {},
   "outputs": [],
   "source": [
    "# functions\n",
    "def remove(path):\n",
    "    if os.path.exists(path):  \n",
    "        if os.path.isfile(path) or os.path.islink(path):\n",
    "            os.unlink(path)\n",
    "        else:\n",
    "            shutil.rmtree(path)\n",
    "\n",
    "def contrast_stretching(img: np.array) -> np.array:\n",
    "    return ((img - img.min()) / (img.max() - img.min()) * (P-1)).astype(np.uint8)"
   ]
  },
  {
   "cell_type": "code",
   "execution_count": 16,
   "metadata": {},
   "outputs": [],
   "source": [
    "for i in range(1, 9):\n",
    "    remove(f\"files/{i}\")\n",
    "for i in range(1, 9):\n",
    "    os.mkdir(f\"files/{i}\")\n",
    "\n",
    "\n",
    "img = Image.open(\"files/image.jpg\")"
   ]
  },
  {
   "cell_type": "markdown",
   "metadata": {},
   "source": [
    "### 1. Загрузка и визуализация изображения\n",
    "#### a) Числовые характеристики изображения"
   ]
  },
  {
   "cell_type": "code",
   "execution_count": 17,
   "metadata": {},
   "outputs": [
    {
     "name": "stdout",
     "output_type": "stream",
     "text": [
      "Размерность изображения: 3648x5472\n",
      "Число световых каналов: 3\n",
      "Яркостное разрешение: 24 bits\n"
     ]
    }
   ],
   "source": [
    "print(f\"Размерность изображения: {img.size[0]}x{img.size[1]}\")\n",
    "print(f\"Число световых каналов: {len(img.getbands())}\")\n",
    "print(f\"Яркостное разрешение: {len(img.getbands()) * 8} bits\")"
   ]
  },
  {
   "cell_type": "markdown",
   "metadata": {},
   "source": [
    "#### б) Если изображение содержит много цветовых каналов, то привести его к одноканальному (в градациях серого) в диапазоне [0; P], P = 255 (яркостное разрешение – 1 байт) "
   ]
  },
  {
   "cell_type": "code",
   "execution_count": 18,
   "metadata": {},
   "outputs": [],
   "source": [
    "gray = img.convert('L')\n",
    "gray.save('files/greyscale.jpg')\n",
    "\n",
    "img_array = asarray(gray)"
   ]
  },
  {
   "cell_type": "markdown",
   "metadata": {},
   "source": [
    "### 2. Детекторы ключевых точек Моравеца и Харриса"
   ]
  },
  {
   "cell_type": "markdown",
   "metadata": {},
   "source": [
    "#### a) Выделить ключевые точки с помощью детектора Моравеца\n",
    "Источник: https://github.com/ceroma/mc920-labs/blob/master/lab2/detectors/moravec.py"
   ]
  },
  {
   "cell_type": "code",
   "execution_count": 43,
   "metadata": {},
   "outputs": [],
   "source": [
    "def draw_point(image, x, y, radius = 1):\n",
    "    \"\"\"Draw a point centered at (x, y) with specified radius.\"\"\"\n",
    "    for dx in range(-radius, radius + 1):\n",
    "        for dy in range(-radius, radius + 1):\n",
    "            image.putpixel((x+dx, y+dy), 255)\n",
    "\n",
    "def draw_corners(image, corners_map, radius=1):\n",
    "    \"\"\"Draw a point for each possible corner.\"\"\"\n",
    "    for corner in corners_map:\n",
    "        draw_point(image, corner[0], corner[1], radius)\n",
    "\n",
    "def moravec(image, window, threshold = 100):\n",
    "    \"\"\"Moravec's corner detection for each pixel of the image.\"\"\"\n",
    "\n",
    "    corners = []\n",
    "    xy_shifts = [(window, 0), (window, window), (0, window), (-window, window)]\n",
    "\n",
    "    for y in range(1, image.size[1]-window):\n",
    "        for x in range(1, image.size[0]-window):\n",
    "            # Look for local maxima in min(E) above threshold:\n",
    "            E = 100000\n",
    "            for shift in xy_shifts:\n",
    "                diff = image.getpixel((x + shift[0], y + shift[1]))\n",
    "                diff = diff - image.getpixel((x, y))\n",
    "                diff = diff * diff\n",
    "                if diff < E:\n",
    "                    E = diff\n",
    "            if E > threshold:\n",
    "                corners.append((x, y))\n",
    "\n",
    "    return corners"
   ]
  },
  {
   "cell_type": "code",
   "execution_count": 44,
   "metadata": {},
   "outputs": [
    {
     "ename": "KeyboardInterrupt",
     "evalue": "",
     "output_type": "error",
     "traceback": [
      "\u001b[0;31m---------------------------------------------------------------------------\u001b[0m",
      "\u001b[0;31mKeyboardInterrupt\u001b[0m                         Traceback (most recent call last)",
      "\u001b[1;32m/home/ilya/study/cv/lab3/lab3.ipynb Cell 14\u001b[0m line \u001b[0;36m2\n\u001b[1;32m      <a href='vscode-notebook-cell://wsl%2Bubuntu/home/ilya/study/cv/lab3/lab3.ipynb#Y100sdnNjb2RlLXJlbW90ZQ%3D%3D?line=0'>1</a>\u001b[0m corners \u001b[39m=\u001b[39m moravec(gray, \u001b[39m100\u001b[39m)\n\u001b[0;32m----> <a href='vscode-notebook-cell://wsl%2Bubuntu/home/ilya/study/cv/lab3/lab3.ipynb#Y100sdnNjb2RlLXJlbW90ZQ%3D%3D?line=1'>2</a>\u001b[0m draw_corners(gray, corners, \u001b[39m100\u001b[39;49m)\n",
      "\u001b[1;32m/home/ilya/study/cv/lab3/lab3.ipynb Cell 14\u001b[0m line \u001b[0;36m1\n\u001b[1;32m      <a href='vscode-notebook-cell://wsl%2Bubuntu/home/ilya/study/cv/lab3/lab3.ipynb#Y100sdnNjb2RlLXJlbW90ZQ%3D%3D?line=7'>8</a>\u001b[0m \u001b[39m\u001b[39m\u001b[39m\"\"\"Draw a point for each possible corner.\"\"\"\u001b[39;00m\n\u001b[1;32m      <a href='vscode-notebook-cell://wsl%2Bubuntu/home/ilya/study/cv/lab3/lab3.ipynb#Y100sdnNjb2RlLXJlbW90ZQ%3D%3D?line=8'>9</a>\u001b[0m \u001b[39mfor\u001b[39;00m corner \u001b[39min\u001b[39;00m corners_map:\n\u001b[0;32m---> <a href='vscode-notebook-cell://wsl%2Bubuntu/home/ilya/study/cv/lab3/lab3.ipynb#Y100sdnNjb2RlLXJlbW90ZQ%3D%3D?line=9'>10</a>\u001b[0m     draw_point(image, corner[\u001b[39m0\u001b[39;49m], corner[\u001b[39m1\u001b[39;49m], radius)\n",
      "\u001b[1;32m/home/ilya/study/cv/lab3/lab3.ipynb Cell 14\u001b[0m line \u001b[0;36m5\n\u001b[1;32m      <a href='vscode-notebook-cell://wsl%2Bubuntu/home/ilya/study/cv/lab3/lab3.ipynb#Y100sdnNjb2RlLXJlbW90ZQ%3D%3D?line=2'>3</a>\u001b[0m \u001b[39mfor\u001b[39;00m dx \u001b[39min\u001b[39;00m \u001b[39mrange\u001b[39m(\u001b[39m-\u001b[39mradius, radius \u001b[39m+\u001b[39m \u001b[39m1\u001b[39m):\n\u001b[1;32m      <a href='vscode-notebook-cell://wsl%2Bubuntu/home/ilya/study/cv/lab3/lab3.ipynb#Y100sdnNjb2RlLXJlbW90ZQ%3D%3D?line=3'>4</a>\u001b[0m     \u001b[39mfor\u001b[39;00m dy \u001b[39min\u001b[39;00m \u001b[39mrange\u001b[39m(\u001b[39m-\u001b[39mradius, radius \u001b[39m+\u001b[39m \u001b[39m1\u001b[39m):\n\u001b[0;32m----> <a href='vscode-notebook-cell://wsl%2Bubuntu/home/ilya/study/cv/lab3/lab3.ipynb#Y100sdnNjb2RlLXJlbW90ZQ%3D%3D?line=4'>5</a>\u001b[0m         image\u001b[39m.\u001b[39;49mputpixel((x\u001b[39m+\u001b[39;49mdx, y\u001b[39m+\u001b[39;49mdy), \u001b[39m255\u001b[39;49m)\n",
      "File \u001b[0;32m~/anaconda3/envs/my_env/lib/python3.8/site-packages/PIL/Image.py:1892\u001b[0m, in \u001b[0;36mImage.putpixel\u001b[0;34m(self, xy, value)\u001b[0m\n\u001b[1;32m   1890\u001b[0m \u001b[39mif\u001b[39;00m \u001b[39mself\u001b[39m\u001b[39m.\u001b[39mreadonly:\n\u001b[1;32m   1891\u001b[0m     \u001b[39mself\u001b[39m\u001b[39m.\u001b[39m_copy()\n\u001b[0;32m-> 1892\u001b[0m \u001b[39mself\u001b[39;49m\u001b[39m.\u001b[39;49mload()\n\u001b[1;32m   1894\u001b[0m \u001b[39mif\u001b[39;00m \u001b[39mself\u001b[39m\u001b[39m.\u001b[39mpyaccess:\n\u001b[1;32m   1895\u001b[0m     \u001b[39mreturn\u001b[39;00m \u001b[39mself\u001b[39m\u001b[39m.\u001b[39mpyaccess\u001b[39m.\u001b[39mputpixel(xy, value)\n",
      "File \u001b[0;32m~/anaconda3/envs/my_env/lib/python3.8/site-packages/PIL/Image.py:860\u001b[0m, in \u001b[0;36mImage.load\u001b[0;34m(self)\u001b[0m\n\u001b[1;32m    858\u001b[0m     \u001b[39mif\u001b[39;00m \u001b[39mself\u001b[39m\u001b[39m.\u001b[39mpyaccess:\n\u001b[1;32m    859\u001b[0m         \u001b[39mreturn\u001b[39;00m \u001b[39mself\u001b[39m\u001b[39m.\u001b[39mpyaccess\n\u001b[0;32m--> 860\u001b[0m \u001b[39mreturn\u001b[39;00m \u001b[39mself\u001b[39;49m\u001b[39m.\u001b[39;49mim\u001b[39m.\u001b[39;49mpixel_access(\u001b[39mself\u001b[39;49m\u001b[39m.\u001b[39;49mreadonly)\n",
      "\u001b[0;31mKeyboardInterrupt\u001b[0m: "
     ]
    }
   ],
   "source": [
    "for w in (100, 200, 300, 400):\n",
    "    gray_temp = gray.copy()\n",
    "    corners = moravec(gray_temp, w)\n",
    "    draw_corners(gray_temp, corners, w)\n",
    "    gray_temp.save(f\"files/2/moravec_w_{w}_points_{len(corners)}.jpg\")"
   ]
  },
  {
   "cell_type": "markdown",
   "metadata": {},
   "source": [
    "### б) Выделить ключевые точки с помощью детектора Харриса\n",
    "Источник: https://docs.opencv.org/4.x/dc/d0d/tutorial_py_features_harris.html"
   ]
  },
  {
   "cell_type": "code",
   "execution_count": 21,
   "metadata": {},
   "outputs": [],
   "source": [
    "prewitt_cross_v = np.array( [[1, 0, -1 ], \n",
    "                             [1, 0, -1],\n",
    "                             [1, 0, -1]]) \n",
    "  \n",
    "prewitt_cross_h = np.array( [[1, 1, 1 ], \n",
    "                             [0, 0, 0],\n",
    "                             [-1, -1, -1]])\n",
    "\n",
    "g_vertical = cv2.filter2D(img_array, -1, prewitt_cross_v)\n",
    "exp_g_vertical = cv2.equalizeHist(g_vertical)\n",
    "Image.fromarray(exp_g_vertical).convert('L').save('files/2/prewitt_vertical.jpg')\n",
    "\n",
    "g_horizontal = cv2.filter2D(img_array, -1, prewitt_cross_h) \n",
    "exp_g_horizontal = cv2.equalizeHist(g_horizontal)\n",
    "Image.fromarray(exp_g_horizontal).convert('L').save('files/2/prewitt_horizontal.jpg')\n",
    "\n",
    "g_module = np.sqrt(np.square(g_horizontal) + np.square(g_vertical)).astype(np.uint8)\n",
    "exp_g_module = cv2.equalizeHist(g_module)\n",
    "Image.fromarray(exp_g_module).convert('L').save('files/2/prewitt_module.jpg')\n",
    "\n",
    "g_angle = np.arctan(g_vertical/g_horizontal).astype(np.uint8)\n",
    "exp_g_angle = cv2.equalizeHist(g_angle)\n",
    "Image.fromarray(exp_g_angle).convert('L').save('files/2/prewitt_angle.jpg')"
   ]
  },
  {
   "cell_type": "markdown",
   "metadata": {},
   "source": [
    "### в) Рассчитать градиентные изображения в вертикальном и горизонтальном направлениях, а также изображения модулей и углов градиентов, используя оператор Собеля\n",
    "Источник: https://en.wikipedia.org/wiki/Sobel_operator"
   ]
  },
  {
   "cell_type": "code",
   "execution_count": 22,
   "metadata": {},
   "outputs": [],
   "source": [
    "sobel_cross_v = np.array( [[1, 0, -1 ], \n",
    "                             [2, 0, -2],\n",
    "                             [1, 0, -1]]) \n",
    "  \n",
    "sobel_cross_h = np.array( [[1, 2, 1 ], \n",
    "                             [0, 0, 0],\n",
    "                             [-1, -2, -1]])\n",
    "\n",
    "g_vertical = cv2.filter2D(img_array, -1, sobel_cross_v)\n",
    "exp_g_vertical = cv2.equalizeHist(g_vertical)\n",
    "Image.fromarray(exp_g_vertical).convert('L').save('files/2/sobel_vertical.jpg')\n",
    "\n",
    "g_horizontal = cv2.filter2D(img_array, -1, sobel_cross_h) \n",
    "exp_g_horizontal = cv2.equalizeHist(g_horizontal)\n",
    "Image.fromarray(exp_g_horizontal).convert('L').save('files/2/sobel_horizontal.jpg')\n",
    "\n",
    "g_module = np.sqrt(np.square(g_horizontal) + np.square(g_vertical)).astype(np.uint8)\n",
    "exp_g_module = cv2.equalizeHist(g_module)\n",
    "Image.fromarray(exp_g_module).convert('L').save('files/2/sobel_module.jpg')\n",
    "\n",
    "g_angle = np.arctan(g_vertical/g_horizontal).astype(np.uint8)\n",
    "exp_g_angle = cv2.equalizeHist(g_angle)\n",
    "Image.fromarray(exp_g_angle).convert('L').save('files/2/sobel_angle.jpg')"
   ]
  },
  {
   "cell_type": "markdown",
   "metadata": {},
   "source": [
    "### 3) Применить к изображению фильтр Гаусса с различными значениями среднеквадратического отклонения sigma:"
   ]
  },
  {
   "cell_type": "code",
   "execution_count": 23,
   "metadata": {},
   "outputs": [],
   "source": [
    "for sigma in (0.5, 5, 10, 20):\n",
    "    image = gray.filter(ImageFilter.GaussianBlur(sigma))\n",
    "    image.save(f\"files/3/gaussian_filter_sigma_{sigma}.jpg\")"
   ]
  },
  {
   "cell_type": "markdown",
   "metadata": {},
   "source": [
    "### 4. Применить оператор Собеля к изображению, сглаженному фильтром Гаусса с различными значениями среднеквадратического отклонения sigma."
   ]
  },
  {
   "cell_type": "code",
   "execution_count": 24,
   "metadata": {},
   "outputs": [],
   "source": [
    "for sigma in (0.5, 5, 10, 20):\n",
    "    sobel_gauss_module = Image.fromarray(exp_g_module).filter(ImageFilter.GaussianBlur(sigma))\n",
    "    sobel_gauss_module.convert('L').save(f'files/4/sobel_gauss_module_sigma_{sigma}.jpg')\n",
    "    sobel_gauss_angle = Image.fromarray(exp_g_angle).filter(ImageFilter.GaussianBlur(sigma))\n",
    "    sobel_gauss_angle.convert('L').save(f'files/4/sobel_gauss_angle_sigma_{sigma}.jpg')"
   ]
  },
  {
   "cell_type": "markdown",
   "metadata": {},
   "source": [
    "### 5) Применить к изображению фильтр лапласиана гауссиан (LoG) с различными размером окна k и значениями среднеквадратического отклонения sigma:\n",
    "Источник: https://math.stackexchange.com/questions/2445994/discrete-laplacian-of-gaussian-log\n",
    "\n",
    "Источник: https://homepages.inf.ed.ac.uk/rbf/HIPR2/zeros.htm"
   ]
  },
  {
   "cell_type": "markdown",
   "metadata": {},
   "source": [
    "#### а) Ядро k = 5, sigma = 0.2"
   ]
  },
  {
   "cell_type": "code",
   "execution_count": 25,
   "metadata": {},
   "outputs": [
    {
     "data": {
      "text/plain": [
       "True"
      ]
     },
     "execution_count": 25,
     "metadata": {},
     "output_type": "execute_result"
    }
   ],
   "source": [
    "# Проверка для смены типа\n",
    "np.array_equal(img_array, img_array.astype(np.int16))"
   ]
  },
  {
   "cell_type": "code",
   "execution_count": 26,
   "metadata": {},
   "outputs": [],
   "source": [
    "def LOG(sigma, x, y):\n",
    "    laplace = -1/(np.pi*sigma**4)*(1-(x**2+y**2)/(2*sigma**2))*np.exp(-(x**2+y**2)/(2*sigma**2))\n",
    "    return laplace\n",
    "\n",
    "def LOG_discrete(sigma, n):\n",
    "    l = np.zeros((n,n))\n",
    "    for i in range(n):\n",
    "        for j in range(n):\n",
    "            l[i,j] = LOG(sigma, (i-(n-1)/2),(j-(n-1)/2))\n",
    "    return l"
   ]
  },
  {
   "cell_type": "code",
   "execution_count": 27,
   "metadata": {},
   "outputs": [],
   "source": [
    "def LOG_process(k, sigma):\n",
    "    results = ndimage.convolve(img_array.astype(np.int16), LOG_discrete(sigma, k))\n",
    "\n",
    "    binary_results = results.copy()\n",
    "    binary_results[binary_results > 0] = 1\n",
    "    binary_results[binary_results < 0] = -1\n",
    "\n",
    "    zero_crossing_results = results.copy()\n",
    "    zero_crossing_results[zero_crossing_results > 0] = -1\n",
    "    zero_crossing_results[zero_crossing_results < 0] = -1\n",
    "    zero_crossing_results[zero_crossing_results == 0] = 0\n",
    "    return results, binary_results, zero_crossing_results"
   ]
  },
  {
   "cell_type": "code",
   "execution_count": 28,
   "metadata": {},
   "outputs": [],
   "source": [
    "k, sigma = 5, 0.2\n",
    "results, binary_results, zero_crossing_results = LOG_process(k, sigma)\n",
    "\n",
    "Image.fromarray(contrast_stretching(results)).save(f\"files/5/log_k_{k}_sigma_{sigma}.jpg\")\n",
    "Image.fromarray(contrast_stretching(binary_results)).save(f\"files/5/binary_log_k_{k}_sigma_{sigma}.jpg\")\n",
    "Image.fromarray(contrast_stretching(zero_crossing_results)).save(f\"files/5/zero_crossing_log_k_{k}_sigma_{sigma}.jpg\")"
   ]
  },
  {
   "cell_type": "code",
   "execution_count": 29,
   "metadata": {},
   "outputs": [],
   "source": [
    "k, sigma = 10, 2\n",
    "results, binary_results, zero_crossing_results = LOG_process(k, sigma)\n",
    "\n",
    "Image.fromarray(contrast_stretching(results)).save(f\"files/5/log_k_{k}_sigma_{sigma}.jpg\")\n",
    "Image.fromarray(contrast_stretching(binary_results)).save(f\"files/5/binary_log_k_{k}_sigma_{sigma}.jpg\")\n",
    "Image.fromarray(contrast_stretching(zero_crossing_results)).save(f\"files/5/zero_crossing_log_k_{k}_sigma_{sigma}.jpg\")"
   ]
  },
  {
   "cell_type": "code",
   "execution_count": 30,
   "metadata": {},
   "outputs": [],
   "source": [
    "k, sigma = 30, 2\n",
    "results, binary_results, zero_crossing_results = LOG_process(k, sigma)\n",
    "\n",
    "Image.fromarray(contrast_stretching(results)).save(f\"files/5/log_k_{k}_sigma_{sigma}.jpg\")\n",
    "Image.fromarray(contrast_stretching(binary_results)).save(f\"files/5/binary_log_k_{k}_sigma_{sigma}.jpg\")\n",
    "Image.fromarray(contrast_stretching(zero_crossing_results)).save(f\"files/5/zero_crossing_log_k_{k}_sigma_{sigma}.jpg\")"
   ]
  },
  {
   "cell_type": "code",
   "execution_count": 31,
   "metadata": {},
   "outputs": [],
   "source": [
    "k, sigma = 30, 10\n",
    "results, binary_results, zero_crossing_results = LOG_process(k, sigma)\n",
    "\n",
    "Image.fromarray(contrast_stretching(results)).save(f\"files/5/log_k_{k}_sigma_{sigma}.jpg\")\n",
    "Image.fromarray(contrast_stretching(binary_results)).save(f\"files/5/binary_log_k_{k}_sigma_{sigma}.jpg\")\n",
    "Image.fromarray(contrast_stretching(zero_crossing_results)).save(f\"files/5/zero_crossing_log_k_{k}_sigma_{sigma}.jpg\")"
   ]
  },
  {
   "cell_type": "markdown",
   "metadata": {},
   "source": [
    "### 6. Применить к изображению фильтр разности гауссиан (DoG) с различными параметрами sigma1 и alpha = sigma1 / sigma2\n",
    "##### Источник: https://gist.github.com/leonidk/8798fdbf38db120b8536d25ea2f8c3b4"
   ]
  },
  {
   "cell_type": "code",
   "execution_count": 32,
   "metadata": {},
   "outputs": [],
   "source": [
    "def DOG(img, sigma1, alpha):\n",
    "    sigma2 = sigma1 / alpha\n",
    "    s1 = gaussian_filter(img, sigma1)\n",
    "    s2 = gaussian_filter(img, sigma2)\n",
    "\n",
    "    dog = s1 - s2\n",
    "    return dog"
   ]
  },
  {
   "cell_type": "code",
   "execution_count": 33,
   "metadata": {},
   "outputs": [],
   "source": [
    "Image.fromarray(DOG(img_array, 2, 1.6)).save(f\"files/6/dog_sigma1_{2}_alpha_{1.6}.jpg\")\n",
    "Image.fromarray(DOG(img_array, 5, 1.6)).save(f\"files/6/dog_sigma1_{5}_sigma_{1.6}.jpg\")\n",
    "Image.fromarray(DOG(img_array, 2, 5)).save(f\"files/6/dog_sigma1_{2}_sigma_{5}.jpg\")\n",
    "Image.fromarray(DOG(img_array, 2, 10)).save(f\"files/6/dog_sigma1_{2}_sigma_{10}.jpg\")"
   ]
  },
  {
   "cell_type": "markdown",
   "metadata": {},
   "source": [
    "### 7. Выделить границы на изображении"
   ]
  },
  {
   "cell_type": "markdown",
   "metadata": {},
   "source": [
    "#### а) Детектор Марра-Хилдрета"
   ]
  },
  {
   "cell_type": "markdown",
   "metadata": {},
   "source": [
    "##### https://github.com/adl1995/edge-detectors/blob/master/marr-hildreth-edge.py"
   ]
  },
  {
   "cell_type": "code",
   "execution_count": null,
   "metadata": {},
   "outputs": [],
   "source": []
  },
  {
   "cell_type": "code",
   "execution_count": null,
   "metadata": {},
   "outputs": [],
   "source": []
  },
  {
   "cell_type": "markdown",
   "metadata": {},
   "source": [
    "#### б) Детектор Кэнни\n",
    "Источник: https://github.com/PacktPublishing/Hands-On-Image-Processing-with-Python/blob/master/Chapter05/Chapter5.ipynb\n",
    "\n",
    "Минута на видео: 45:00"
   ]
  },
  {
   "cell_type": "code",
   "execution_count": 34,
   "metadata": {},
   "outputs": [],
   "source": [
    "sigma, low_threshold, high_threshold = 0.5, 200, 255\n",
    "\n",
    "edges = feature.canny(img_array, sigma=sigma, low_threshold=low_threshold, high_threshold=high_threshold).astype(np.uint8)\n",
    "Image.fromarray(contrast_stretching(edges)).save(f\"files/7/canny_sigma_{sigma}.jpg\")"
   ]
  },
  {
   "cell_type": "code",
   "execution_count": 35,
   "metadata": {},
   "outputs": [],
   "source": [
    "sigma, low_threshold, high_threshold = 2, 50, 200\n",
    "\n",
    "edges = feature.canny(img_array, sigma=sigma, low_threshold=low_threshold, high_threshold=high_threshold).astype(np.uint8)\n",
    "Image.fromarray(contrast_stretching(edges)).save(f\"files/7/canny_sigma_{sigma}.jpg\")"
   ]
  },
  {
   "cell_type": "code",
   "execution_count": 36,
   "metadata": {},
   "outputs": [],
   "source": [
    "sigma, low_threshold, high_threshold = 5, 100, 255\n",
    "\n",
    "edges = feature.canny(img_array, sigma=sigma, low_threshold=low_threshold, high_threshold=high_threshold).astype(np.uint8)\n",
    "Image.fromarray(contrast_stretching(edges)).save(f\"files/7/canny_sigma_{sigma}.jpg\")"
   ]
  },
  {
   "cell_type": "code",
   "execution_count": 37,
   "metadata": {},
   "outputs": [],
   "source": [
    "sigma, low_threshold, high_threshold = 10, 100, 255\n",
    "\n",
    "edges = feature.canny(img_array, sigma=sigma, low_threshold=low_threshold, high_threshold=high_threshold).astype(np.uint8)\n",
    "Image.fromarray(contrast_stretching(edges)).save(f\"files/7/canny_sigma_{sigma}.jpg\")"
   ]
  },
  {
   "cell_type": "markdown",
   "metadata": {},
   "source": [
    "### 8. Провести нерезкое маскирование изображения"
   ]
  },
  {
   "cell_type": "markdown",
   "metadata": {},
   "source": [
    "#### а) Без использования порога (t = 0)\n",
    "##### Источник: \n",
    "##### Минута на видео: 1:53:40"
   ]
  },
  {
   "cell_type": "code",
   "execution_count": 38,
   "metadata": {},
   "outputs": [],
   "source": [
    "for (sigma, lambdaa) in [(2, 2), (20, 2), (2, 10), (20, 10)]:\n",
    "    gauss = asarray(gray.filter(ImageFilter.GaussianBlur(sigma)))\n",
    "    unsharp = img_array + lambdaa * (img_array - gauss)\n",
    "    Image.fromarray(unsharp).save(f\"files/8/unsharp_mask_without_t_sigma_{sigma}_lambda_{lambdaa}.jpg\")    "
   ]
  },
  {
   "cell_type": "markdown",
   "metadata": {},
   "source": [
    "#### б) С использованием порога (t > 0)"
   ]
  },
  {
   "cell_type": "code",
   "execution_count": 39,
   "metadata": {},
   "outputs": [],
   "source": [
    "for (sigma, lambdaa, t) in [(2, 2, 100), (20, 2, 100), (2, 10, 100), (20, 10, 100)]:\n",
    "    gauss = asarray(gray.filter(ImageFilter.GaussianBlur(sigma)))\n",
    "    unsharp = np.where(np.abs(img_array - unsharp) > t, img_array + lambdaa * (img_array - gauss), gauss)\n",
    "    Image.fromarray(unsharp).save(f\"files/8/unsharp_mask_sigma_{sigma}_lambda_{lambdaa}_t_{t}.jpg\")    "
   ]
  },
  {
   "cell_type": "code",
   "execution_count": null,
   "metadata": {},
   "outputs": [],
   "source": []
  }
 ],
 "metadata": {
  "kernelspec": {
   "display_name": "my_env",
   "language": "python",
   "name": "python3"
  },
  "language_info": {
   "codemirror_mode": {
    "name": "ipython",
    "version": 3
   },
   "file_extension": ".py",
   "mimetype": "text/x-python",
   "name": "python",
   "nbconvert_exporter": "python",
   "pygments_lexer": "ipython3",
   "version": "3.8.10"
  }
 },
 "nbformat": 4,
 "nbformat_minor": 2
}
