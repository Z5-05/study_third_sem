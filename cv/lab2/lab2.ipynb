{
 "cells": [
  {
   "cell_type": "markdown",
   "metadata": {},
   "source": [
    "Источник: https://github.com/PacktPublishing/Hands-On-Image-Processing-with-Python/tree/master"
   ]
  },
  {
   "cell_type": "code",
   "execution_count": 357,
   "metadata": {},
   "outputs": [],
   "source": [
    "# !pip install -U scikit-image"
   ]
  },
  {
   "cell_type": "code",
   "execution_count": 358,
   "metadata": {},
   "outputs": [],
   "source": [
    "import os\n",
    "from PIL import Image, ImageFilter\n",
    "import numpy as np\n",
    "from numpy import asarray\n",
    "import shutil\n",
    "from scipy.ndimage import gaussian_filter\n",
    "import cv2\n",
    "import matplotlib.pyplot as plt\n",
    "from scipy import ndimage"
   ]
  },
  {
   "cell_type": "code",
   "execution_count": 359,
   "metadata": {},
   "outputs": [],
   "source": [
    "# constants\n",
    "\n",
    "# 1\n",
    "P = 256\n",
    "\n",
    "# 4\n",
    "K = 5"
   ]
  },
  {
   "cell_type": "code",
   "execution_count": 360,
   "metadata": {},
   "outputs": [],
   "source": [
    "# functions\n",
    "def remove(path):\n",
    "    if os.path.exists(path):  \n",
    "        if os.path.isfile(path) or os.path.islink(path):\n",
    "            os.unlink(path)\n",
    "        else:\n",
    "            shutil.rmtree(path)\n",
    "\n",
    "def contrast_stretching(img: np.array) -> np.array:\n",
    "    return ((img - img.min()) / (img.max() - img.min()) * (P-1)).astype(np.uint8)"
   ]
  },
  {
   "cell_type": "code",
   "execution_count": 361,
   "metadata": {},
   "outputs": [],
   "source": [
    "for i in range(1, 8):\n",
    "    remove(f\"files/{i}\")\n",
    "for i in range(1, 8):\n",
    "    os.mkdir(f\"files/{i}\")\n",
    "\n",
    "\n",
    "img = Image.open(\"files/image.jpg\")"
   ]
  },
  {
   "cell_type": "markdown",
   "metadata": {},
   "source": [
    "### 1. Загрузка и визуализация изображения\n",
    "#### a) Числовые характеристики изображения"
   ]
  },
  {
   "cell_type": "code",
   "execution_count": 362,
   "metadata": {},
   "outputs": [
    {
     "name": "stdout",
     "output_type": "stream",
     "text": [
      "Размерность изображения: 1600x1060\n",
      "Число световых каналов: 3\n",
      "Яркостное разрешение: 24 bits\n"
     ]
    }
   ],
   "source": [
    "print(f\"Размерность изображения: {img.size[0]}x{img.size[1]}\")\n",
    "print(f\"Число световых каналов: {len(img.getbands())}\")\n",
    "print(f\"Яркостное разрешение: {len(img.getbands()) * 8} bits\")\n"
   ]
  },
  {
   "cell_type": "markdown",
   "metadata": {},
   "source": [
    "#### б) Если изображение содержит много цветовых каналов, то привести его к одноканальному (в градациях серого) в диапазоне [0; P], P = 255 (яркостное разрешение – 1 байт) "
   ]
  },
  {
   "cell_type": "code",
   "execution_count": 363,
   "metadata": {},
   "outputs": [],
   "source": [
    "gray = img.convert('L')\n",
    "gray.save('files/greyscale.jpg')\n",
    "\n",
    "img_array = asarray(gray)"
   ]
  },
  {
   "cell_type": "markdown",
   "metadata": {},
   "source": [
    "### 2. Градиентные операторы"
   ]
  },
  {
   "cell_type": "markdown",
   "metadata": {},
   "source": [
    "#### a) Рассчитать градиентные изображения в вертикальном и горизонтальном направлениях, а также изображения модулей и углов градиентов, используя оператор Робертса\n",
    "Источник: https://ru.wikipedia.org/wiki/%D0%9F%D0%B5%D1%80%D0%B5%D0%BA%D1%80%D1%91%D1%81%D1%82%D0%BD%D1%8B%D0%B9_%D0%BE%D0%BF%D0%B5%D1%80%D0%B0%D1%82%D0%BE%D1%80_%D0%A0%D0%BE%D0%B1%D0%B5%D1%80%D1%82%D1%81%D0%B0\n",
    "\n",
    "Источник: https://habr.com/ru/articles/114452/"
   ]
  },
  {
   "cell_type": "code",
   "execution_count": 364,
   "metadata": {},
   "outputs": [
    {
     "data": {
      "text/plain": [
       "(1060, 1600)"
      ]
     },
     "execution_count": 364,
     "metadata": {},
     "output_type": "execute_result"
    }
   ],
   "source": [
    "img_array.shape"
   ]
  },
  {
   "cell_type": "code",
   "execution_count": 365,
   "metadata": {},
   "outputs": [
    {
     "name": "stderr",
     "output_type": "stream",
     "text": [
      "/tmp/ipykernel_404/897329376.py:16: RuntimeWarning: divide by zero encountered in divide\n",
      "  g_angle = np.arctan(g_vertical/g_horizontal).astype(np.int8)\n",
      "/tmp/ipykernel_404/897329376.py:16: RuntimeWarning: invalid value encountered in divide\n",
      "  g_angle = np.arctan(g_vertical/g_horizontal).astype(np.int8)\n",
      "/tmp/ipykernel_404/897329376.py:16: RuntimeWarning: invalid value encountered in cast\n",
      "  g_angle = np.arctan(g_vertical/g_horizontal).astype(np.int8)\n"
     ]
    }
   ],
   "source": [
    "roberts_cross_v = np.array( [[1, 0 ], \n",
    "                             [0,-1 ]] ) \n",
    "  \n",
    "roberts_cross_h = np.array( [[ 0, 1 ], \n",
    "                             [ -1, 0 ]] )\n",
    "\n",
    "g_vertical = ndimage.convolve(img_array, roberts_cross_v)\n",
    "Image.fromarray(g_vertical).save('files/1/vertical.jpg')\n",
    "\n",
    "g_horizontal = ndimage.convolve(img_array, roberts_cross_h) \n",
    "Image.fromarray(g_horizontal).save('files/1/horizontal.jpg')\n",
    "\n",
    "g_module = np.sqrt( np.square(g_horizontal) + np.square(g_vertical)).astype(np.int8)\n",
    "Image.fromarray(g_module, \"L\").save('files/1/module.jpg')\n",
    "\n",
    "g_angle = np.arctan(g_vertical/g_horizontal).astype(np.int8)\n",
    "Image.fromarray(g_angle * (P - 1), \"L\").save('files/1/angle.jpg')"
   ]
  },
  {
   "cell_type": "code",
   "execution_count": 366,
   "metadata": {},
   "outputs": [
    {
     "data": {
      "text/plain": [
       "0"
      ]
     },
     "execution_count": 366,
     "metadata": {},
     "output_type": "execute_result"
    }
   ],
   "source": [
    "g_angle.min()"
   ]
  },
  {
   "cell_type": "markdown",
   "metadata": {},
   "source": [
    "### 3) Применить к изображению фильтр Гаусса с различными значениями среднеквадратического отклонения sigma:"
   ]
  },
  {
   "cell_type": "code",
   "execution_count": 367,
   "metadata": {},
   "outputs": [],
   "source": [
    "for sigma in (0.5, 5, 10, 20):\n",
    "    image = gray.filter(ImageFilter.GaussianBlur(sigma))\n",
    "    image.save(f\"files/3/gaussian_filter_sigma_{sigma}.jpg\")"
   ]
  },
  {
   "cell_type": "markdown",
   "metadata": {},
   "source": [
    "### 5) Применить к изображению фильтр лапласиана гауссиан (LoG) с различными размером окна k и значениями среднеквадратического отклонения sigma:\n",
    "Источник: https://math.stackexchange.com/questions/2445994/discrete-laplacian-of-gaussian-log\n",
    "\n",
    "Источник: https://homepages.inf.ed.ac.uk/rbf/HIPR2/zeros.htm"
   ]
  },
  {
   "cell_type": "markdown",
   "metadata": {},
   "source": [
    "#### а) Ядро k = 5, sigma = 0.2"
   ]
  },
  {
   "cell_type": "code",
   "execution_count": 368,
   "metadata": {},
   "outputs": [
    {
     "data": {
      "text/plain": [
       "True"
      ]
     },
     "execution_count": 368,
     "metadata": {},
     "output_type": "execute_result"
    }
   ],
   "source": [
    "# Проверка для смены типа\n",
    "np.array_equal(img_array, img_array.astype(np.int16))"
   ]
  },
  {
   "cell_type": "code",
   "execution_count": 369,
   "metadata": {},
   "outputs": [],
   "source": [
    "def LOG(sigma, x, y):\n",
    "    laplace = -1/(np.pi*sigma**4)*(1-(x**2+y**2)/(2*sigma**2))*np.exp(-(x**2+y**2)/(2*sigma**2))\n",
    "    return laplace\n",
    "\n",
    "def LOG_discrete(sigma, n):\n",
    "    l = np.zeros((n,n))\n",
    "    for i in range(n):\n",
    "        for j in range(n):\n",
    "            l[i,j] = LOG(sigma, (i-(n-1)/2),(j-(n-1)/2))\n",
    "    return l"
   ]
  },
  {
   "cell_type": "code",
   "execution_count": 370,
   "metadata": {},
   "outputs": [],
   "source": [
    "def LOG_process(k, sigma):\n",
    "    results = ndimage.convolve(img_array.astype(np.int16), LOG_discrete(sigma, k))\n",
    "\n",
    "    binary_results = results.copy()\n",
    "    binary_results[binary_results > 0] = 1\n",
    "    binary_results[binary_results < 0] = -1\n",
    "\n",
    "    zero_crossing_results = results.copy()\n",
    "    zero_crossing_results[zero_crossing_results > 0] = -1\n",
    "    zero_crossing_results[zero_crossing_results < 0] = -1\n",
    "    zero_crossing_results[zero_crossing_results == 0] = 0\n",
    "    return results, binary_results, zero_crossing_results"
   ]
  },
  {
   "cell_type": "code",
   "execution_count": 371,
   "metadata": {},
   "outputs": [
    {
     "name": "stderr",
     "output_type": "stream",
     "text": [
      "/tmp/ipykernel_404/2934881476.py:10: RuntimeWarning: overflow encountered in scalar subtract\n",
      "  return ((img - img.min()) / (img.max() - img.min()) * (P-1)).astype(np.uint8)\n"
     ]
    }
   ],
   "source": [
    "k, sigma = 5, 0.2\n",
    "results, binary_results, zero_crossing_results = LOG_process(k, sigma)\n",
    "\n",
    "Image.fromarray(contrast_stretching(results)).save(f\"files/5/log_k_{k}_sigma_{sigma}.jpg\")\n",
    "Image.fromarray(contrast_stretching(binary_results)).save(f\"files/5/binary_log_k_{k}_sigma_{sigma}.jpg\")\n",
    "Image.fromarray(contrast_stretching(zero_crossing_results)).save(f\"files/5/zero_crossing_log_k_{k}_sigma_{sigma}.jpg\")"
   ]
  },
  {
   "cell_type": "code",
   "execution_count": 372,
   "metadata": {},
   "outputs": [],
   "source": [
    "k, sigma = 10, 2\n",
    "results, binary_results, zero_crossing_results = LOG_process(k, sigma)\n",
    "\n",
    "Image.fromarray(contrast_stretching(results)).save(f\"files/5/log_k_{k}_sigma_{sigma}.jpg\")\n",
    "Image.fromarray(contrast_stretching(binary_results)).save(f\"files/5/binary_log_k_{k}_sigma_{sigma}.jpg\")\n",
    "Image.fromarray(contrast_stretching(zero_crossing_results)).save(f\"files/5/zero_crossing_log_k_{k}_sigma_{sigma}.jpg\")"
   ]
  },
  {
   "cell_type": "code",
   "execution_count": 373,
   "metadata": {},
   "outputs": [],
   "source": [
    "k, sigma = 30, 2\n",
    "results, binary_results, zero_crossing_results = LOG_process(k, sigma)\n",
    "\n",
    "Image.fromarray(contrast_stretching(results)).save(f\"files/5/log_k_{k}_sigma_{sigma}.jpg\")\n",
    "Image.fromarray(contrast_stretching(binary_results)).save(f\"files/5/binary_log_k_{k}_sigma_{sigma}.jpg\")\n",
    "Image.fromarray(contrast_stretching(zero_crossing_results)).save(f\"files/5/zero_crossing_log_k_{k}_sigma_{sigma}.jpg\")"
   ]
  },
  {
   "cell_type": "code",
   "execution_count": 374,
   "metadata": {},
   "outputs": [],
   "source": [
    "k, sigma = 30, 10\n",
    "results, binary_results, zero_crossing_results = LOG_process(k, sigma)\n",
    "\n",
    "Image.fromarray(contrast_stretching(results)).save(f\"files/5/log_k_{k}_sigma_{sigma}.jpg\")\n",
    "Image.fromarray(contrast_stretching(binary_results)).save(f\"files/5/binary_log_k_{k}_sigma_{sigma}.jpg\")\n",
    "Image.fromarray(contrast_stretching(zero_crossing_results)).save(f\"files/5/zero_crossing_log_k_{k}_sigma_{sigma}.jpg\")"
   ]
  },
  {
   "cell_type": "markdown",
   "metadata": {},
   "source": [
    "### 6. Применить к изображению фильтр разности гауссиан (DoG) с различными параметрами sigma1 и alpha = sigma1 / sigma2\n",
    "##### Источник: https://gist.github.com/leonidk/8798fdbf38db120b8536d25ea2f8c3b4"
   ]
  },
  {
   "cell_type": "code",
   "execution_count": 375,
   "metadata": {},
   "outputs": [],
   "source": [
    "def DOG(img, sigma1, alpha):\n",
    "    sigma2 = sigma1 / alpha\n",
    "    s1 = gaussian_filter(img, sigma1)\n",
    "    s2 = gaussian_filter(img, sigma2)\n",
    "\n",
    "    dog = s1 - s2\n",
    "    return dog"
   ]
  },
  {
   "cell_type": "code",
   "execution_count": 376,
   "metadata": {},
   "outputs": [],
   "source": [
    "Image.fromarray(DOG(img_array, 2, 1.6)).save(f\"files/6/dog_sigma1_{2}_alpha_{1.6}.jpg\")\n",
    "Image.fromarray(DOG(img_array, 5, 1.6)).save(f\"files/6/dog_sigma1_{5}_sigma_{1.6}.jpg\")\n",
    "Image.fromarray(DOG(img_array, 2, 5)).save(f\"files/6/dog_sigma1_{2}_sigma_{5}.jpg\")\n",
    "Image.fromarray(DOG(img_array, 2, 10)).save(f\"files/6/dog_sigma1_{2}_sigma_{10}.jpg\")"
   ]
  },
  {
   "cell_type": "markdown",
   "metadata": {},
   "source": [
    "### 7. Выделить границы на изображении"
   ]
  },
  {
   "cell_type": "markdown",
   "metadata": {},
   "source": [
    "#### а) Детектор Марра-Хилдрета"
   ]
  },
  {
   "cell_type": "markdown",
   "metadata": {},
   "source": [
    "##### https://github.com/adl1995/edge-detectors/blob/master/marr-hildreth-edge.py"
   ]
  },
  {
   "cell_type": "code",
   "execution_count": null,
   "metadata": {},
   "outputs": [],
   "source": []
  }
 ],
 "metadata": {
  "kernelspec": {
   "display_name": "my_env",
   "language": "python",
   "name": "python3"
  },
  "language_info": {
   "codemirror_mode": {
    "name": "ipython",
    "version": 3
   },
   "file_extension": ".py",
   "mimetype": "text/x-python",
   "name": "python",
   "nbconvert_exporter": "python",
   "pygments_lexer": "ipython3",
   "version": "3.8.10"
  }
 },
 "nbformat": 4,
 "nbformat_minor": 2
}
